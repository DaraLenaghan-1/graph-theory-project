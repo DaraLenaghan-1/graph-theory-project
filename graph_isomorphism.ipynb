{
 "cells": [
  {
   "attachments": {},
   "cell_type": "markdown",
   "metadata": {},
   "source": [
    "#  Graph Isomorphism Problem.\n",
    "\n",
    "***\n",
    "### Summary\n",
    "\n",
    "The Graph Isomorphism Problem is a mathematical problem that asks whether two given graphs are the same in structure, meaning they have the same number of nodes, the same number of edges, and edges connect nodes in the same way. In simpler terms, it is the problem of determining if two graphs look the same, regardless of the labels on their nodes. The problem is considered challenging because there is no known efficient algorithm for solving it in all cases, and it is one of a few mathematical problems for which no fast solution has been found."
   ]
  },
  {
   "attachments": {},
   "cell_type": "markdown",
   "metadata": {},
   "source": [
    "### Problem and its Significance\n",
    "***\n",
    "\n",
    "The Graph Isomorphism Problem is a fundamental problem in computer science and mathematics that has challenged researchers for decades. Simply put, the problem asks whether two given graphs are isomorphic or not. An isomorphism between two graphs is a bijective function that preserves the adjacency relationships between the vertices of the graphs. If such an isomorphism exists, the two graphs are said to be isomorphic; otherwise, they are not.\n",
    "\n",
    "The Graph Isomorphism Problem is important for a number of reasons. First, it is a basic problem in computational group theory and has implications for other areas of mathematics such as the study of groups and symmetry. Second, it is relevant to many areas of computer science such as network analysis, computational biology, and cryptography. Third, graph isomorphism is closely related to other problems in complexity theory such as the hidden subgroup problem, which is used in quantum computing.\n",
    "\n",
    "Despite decades of research, the Graph Isomorphism Problem remains a challenging problem to solve. It is not known whether the problem is in P, NP-complete, or some intermediate level of complexity. Furthermore, the problem has important practical applications such as in the analysis of chemical structures and in cryptography. Therefore, finding a fast algorithm for the Graph Isomorphism Problem would have important implications for both theoretical and practical areas of computer science and mathematics."
   ]
  },
  {
   "attachments": {},
   "cell_type": "markdown",
   "metadata": {},
   "source": [
    "### Mathematical Foundations\n",
    "***\n",
    "A graph is a mathematical object consisting of a set of vertices and a set of edges connecting pairs of vertices. Formally, a graph G can be represented as a pair (V, E), where V is a set of vertices and E is a set of edges. An edge is an unordered pair of vertices (u, v), denoted by {u, v}, that represents a connection between the two vertices. A graph can be directed or undirected, and can also have weighted edges that indicate the strength or distance between vertices.\n",
    "\n",
    "Given two graphs G1 = (V1, E1) and G2 = (V2, E2), an isomorphism between the two graphs is a bijective function f: V1 -> V2 that preserves the adjacency relationships between the vertices. That is, for every edge {u, v} in E1, there must be a corresponding edge {f(u), f(v)} in E2, and for every edge {u, v} in E2, there must be a corresponding edge {f^(-1)(u), f^(-1)(v)} in E1. Here, f^(-1) denotes the inverse function of f. If such an isomorphism exists, the two graphs G1 and G2 are said to be isomorphic.\n",
    "\n",
    "More formally, a graph isomorphism between G1 and G2 is a function f: V1 -> V2 that satisfies the following conditions:\n",
    "\n",
    "f is a bijection (i.e., f is one-to-one and onto)\n",
    "For any pair of vertices u, v in V1, {u, v} is an edge in E1 if and only if {f(u), f(v)} is an edge in E2.\n",
    "If such a function f exists, we say that G1 and G2 are isomorphic, denoted as G1 ≅ G2."
   ]
  },
  {
   "cell_type": "code",
   "execution_count": null,
   "metadata": {},
   "outputs": [],
   "source": []
  },
  {
   "cell_type": "markdown",
   "metadata": {},
   "source": []
  }
 ],
 "metadata": {
  "kernelspec": {
   "display_name": "Python 3",
   "language": "python",
   "name": "python3"
  },
  "language_info": {
   "codemirror_mode": {
    "name": "ipython",
    "version": 3
   },
   "file_extension": ".py",
   "mimetype": "text/x-python",
   "name": "python",
   "nbconvert_exporter": "python",
   "pygments_lexer": "ipython3",
   "version": "3.11.0"
  },
  "orig_nbformat": 4,
  "vscode": {
   "interpreter": {
    "hash": "14ae21c7a4af0dce8ab17fc4c83e28594419423149b1b2991bdb1e84b4a11271"
   }
  }
 },
 "nbformat": 4,
 "nbformat_minor": 2
}
