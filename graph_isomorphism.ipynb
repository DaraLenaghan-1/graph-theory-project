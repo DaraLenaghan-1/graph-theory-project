{
 "cells": [
  {
   "attachments": {},
   "cell_type": "markdown",
   "metadata": {},
   "source": [
    "#  Graph Isomorphism Problem.\n",
    "\n",
    "***\n",
    "### Summary\n",
    "\n",
    "Graph theory is a branch of mathematics that deals with the study of graphs, which are structures consisting of vertices (also called nodes) and edges (also called links) that connect them. The fundamentals of graph theory include the following concepts:\n",
    "\n",
    "- Graphs: A graph is a collection of vertices and edges. Vertices represent objects or entities, and edges represent the relationships or connections between them.\n",
    "\n",
    "- Degree: The degree of a vertex is the number of edges that are incident to it. A vertex with no edges incident to it is called an isolated vertex.\n",
    "\n",
    "- Paths and cycles: A path is a sequence of edges that connect a sequence of vertices in a graph. A cycle is a path that starts and ends at the same vertex.\n",
    "\n",
    "- Connectivity: A graph is connected if there is a path between any two vertices in the graph. A graph that is not connected is said to be disconnected.\n",
    "\n",
    "- Trees: A tree is a connected graph with no cycles. In a tree, there is a unique path between any two vertices.\n",
    "\n",
    "- Planar graphs: A planar graph is a graph that can be drawn on a plane such that no two edges cross.\n",
    "\n",
    "- Graph coloring: Graph coloring is the assignment of colors to the vertices of a graph such that no two adjacent vertices have the same color.\n",
    "\n",
    "These are some of the fundamental concepts of graph theory, but there are many other important concepts as well, such as graph isomorphism, graph algorithms, and graph measures.\n",
    "\n",
    "**The Graph Isomorphism Problem** is a mathematical problem that asks whether two given graphs are the same in structure, meaning they have the same number of nodes, the same number of edges, and edges connect nodes in the same way. In simpler terms, it is the problem of determining if two graphs look the same, regardless of the labels on their nodes. The problem is considered challenging because there is no known efficient algorithm for solving it in all cases, and it is one of a few mathematical problems for which no fast solution has been found."
   ]
  },
  {
   "attachments": {},
   "cell_type": "markdown",
   "metadata": {},
   "source": [
    "### Problem and its Significance\n",
    "***\n",
    "\n",
    "The Graph Isomorphism Problem is a fundamental problem in computer science and mathematics that has challenged researchers for decades. Simply put, the problem asks whether two given graphs are isomorphic or not. An isomorphism between two graphs is a bijective function that preserves the adjacency relationships between the vertices of the graphs. If such an isomorphism exists, the two graphs are said to be isomorphic; otherwise, they are not.\n",
    "\n",
    "The Graph Isomorphism Problem is important for a number of reasons. First, it is a basic problem in computational group theory and has implications for other areas of mathematics such as the study of groups and symmetry. Second, it is relevant to many areas of computer science such as network analysis, computational biology, and cryptography. Third, graph isomorphism is closely related to other problems in complexity theory such as the hidden subgroup problem, which is used in quantum computing.\n",
    "\n",
    "Despite decades of research, the Graph Isomorphism Problem remains a challenging problem to solve. It is not known whether the problem is in P, NP-complete, or some intermediate level of complexity. Furthermore, the problem has important practical applications such as in the analysis of chemical structures and in cryptography. Therefore, finding a fast algorithm for the Graph Isomorphism Problem would have important implications for both theoretical and practical areas of computer science and mathematics.\n",
    "\n",
    "![example graph image](images/graph-isomorphism-in-discrete-mathematics.png)\n"
   ]
  },
  {
   "attachments": {},
   "cell_type": "markdown",
   "metadata": {},
   "source": [
    "### Mathematical Foundations\n",
    "***\n",
    "A graph is a mathematical object consisting of a set of vertices and a set of edges connecting pairs of vertices. Formally, a graph G can be represented as a pair (V, E), where V is a set of vertices and E is a set of edges. An edge is an unordered pair of vertices (u, v), denoted by {u, v}, that represents a connection between the two vertices. A graph can be directed or undirected, and can also have weighted edges that indicate the strength or distance between vertices.\n",
    "\n",
    "Given two graphs G1 = (V1, E1) and G2 = (V2, E2), an isomorphism between the two graphs is a bijective function f: V1 -> V2 that preserves the adjacency relationships between the vertices. That is, for every edge {u, v} in E1, there must be a corresponding edge {f(u), f(v)} in E2, and for every edge {u, v} in E2, there must be a corresponding edge {f^(-1)(u), f^(-1)(v)} in E1. Here, f^(-1) denotes the inverse function of f. If such an isomorphism exists, the two graphs G1 and G2 are said to be isomorphic.\n",
    "\n",
    "More formally, a graph isomorphism between G1 and G2 is a function f: V1 -> V2 that satisfies the following conditions:\n",
    "\n",
    "f is a bijection (i.e., f is one-to-one and onto)\n",
    "For any pair of vertices u, v in V1, {u, v} is an edge in E1 if and only if {f(u), f(v)} is an edge in E2.\n",
    "If such a function f exists, we say that G1 and G2 are isomorphic, denoted as G1 ≅ G2."
   ]
  },
  {
   "cell_type": "code",
   "execution_count": 11,
   "metadata": {},
   "outputs": [
    {
     "name": "stdout",
     "output_type": "stream",
     "text": [
      "The graphs are isomorphic.\n"
     ]
    }
   ],
   "source": [
    "import networkx as nx\n",
    "import matplotlib.pyplot as plt\n",
    "import numpy as np\n",
    "\n",
    "# Create the first graph\n",
    "G1 = nx.Graph()\n",
    "G1.add_nodes_from([1, 2, 3, 4])\n",
    "G1.add_edges_from([(1, 2), (2, 3), (3, 4), (4, 1)])\n",
    "\n",
    "# Create the second graph\n",
    "G2 = nx.Graph()\n",
    "G2.add_nodes_from(['A', 'B', 'C', 'D'])\n",
    "G2.add_edges_from([('A', 'B'), ('B', 'C'), ('C', 'D'), ('D', 'A')])\n",
    "\n",
    "# Check if the two graphs are isomorphic\n",
    "if nx.is_isomorphic(G1, G2):\n",
    "    print(\"The graphs are isomorphic.\")\n",
    "else:\n",
    "    print(\"The graphs are not isomorphic.\")"
   ]
  },
  {
   "cell_type": "code",
   "execution_count": 12,
   "metadata": {},
   "outputs": [],
   "source": [
    "import itertools as it\n",
    "import numpy as np\n",
    "\n",
    "\n",
    "def get_graph_order(adj_matrix):\n",
    "    if len(adj_matrix) != len(adj_matrix[0]):\n",
    "        return -1\n",
    "    else:\n",
    "        return len(adj_matrix)\n",
    "\n",
    "\n",
    "def get_degree_sequence(adj_matrix):\n",
    "    degree_sequence = []\n",
    "    for vertex in range(len(adj_matrix)):\n",
    "        degree_sequence.append(sum(adj_matrix[vertex]))\n",
    "    degree_sequence.sort(reverse=True)\n",
    "    return degree_sequence\n",
    "\n",
    "\n",
    "def get_all_vertex_permutations(adj_matrix):\n",
    "    if get_graph_order(adj_matrix) > 8:\n",
    "        print(\"This function is too inefficient for graph order > 8\")\n",
    "        return -1\n",
    "    all_adj_matrix = []\n",
    "    idx = list(range(len(adj_matrix)))\n",
    "    possible_idx_combinations = [\n",
    "        list(i) for i in itertools.permutations(idx, len(idx))\n",
    "    ]\n",
    "    for idx_comb in possible_idx_combinations:\n",
    "        a = adj_matrix\n",
    "        a = a[idx_comb]\n",
    "        a = np.transpose(np.transpose(a)[idx_comb])\n",
    "        all_adj_matrix.append({\n",
    "            \"perm_vertex\":\n",
    "            idx_comb,\n",
    "            \"adj_matrix\":\n",
    "            a\n",
    "        })\n",
    "\n",
    "    return all_adj_matrix\n",
    "\n",
    "\n",
    "def brute_force_test_graph_isomporphism(adj_1, adj_2):\n",
    "    degree_sequence_1 = get_degree_sequence(adj_1)\n",
    "    degree_sequence_2 = get_degree_sequence(adj_2)\n",
    "    if get_graph_order(adj_1) != get_graph_order(adj_1):\n",
    "        return False\n",
    "    elif np.array_equal(degree_sequence_1, degree_sequence_2) == False:\n",
    "        return False\n",
    "    else:\n",
    "        for adj_matrix in list(\n",
    "                map(lambda matrix: matrix[\"adj_matrix\"],\n",
    "                    get_all_vertex_permutations(adj_2))):\n",
    "            if np.array_equal(adj_1, adj_matrix) == True:\n",
    "                return True\n",
    "    return False"
   ]
  },
  {
   "attachments": {},
   "cell_type": "markdown",
   "metadata": {},
   "source": [
    "### Algorithms\n",
    "\n",
    "***\n",
    "There are several algorithms for solving the Graph Isomorphism Problem, each with their own strengths and weaknesses. Here are some of the most well-known algorithms:\n",
    "\n",
    "- Brute force search: The simplest algorithm for graph isomorphism is to generate all possible permutations of the vertices of the two graphs, and check if there exists a permutation that maps one graph to the other. While this approach is conceptually simple, it is not practical for large graphs, as the number of possible permutations grows exponentially with the size of the graph.\n",
    "\n",
    "- Weisfeiler-Lehman algorithm: This algorithm is based on a method for graph coloring known as the Weisfeiler-Lehman refinement procedure. The algorithm involves iteratively assigning a color to each vertex based on the colors of its neighbors, and comparing the resulting color sequences of the two graphs. The algorithm has a worst-case complexity of O(n log n), where n is the number of vertices in the graphs.\n",
    "\n",
    "- Nauty algorithm: This algorithm is a highly optimized implementation of the canonical labeling approach, which involves finding a unique labeling of each vertex in the graphs such that isomorphic graphs have the same labeling. The Nauty algorithm uses a variety of techniques to reduce the search space and improve efficiency, and is one of the fastest algorithms for graph isomorphism.\n",
    "\n",
    "- VF2 algorithm: This algorithm is based on a backtracking search approach, where a mapping between the vertices of the two graphs is constructed incrementally. The algorithm uses a variety of heuristics to prune the search space and improve efficiency, and has a worst-case complexity of O(n!). The VF2 algorithm is often used as a baseline for comparing the performance of other algorithms.\n",
    "\n",
    "- LAD algorithm: The LAD (Labeled Asymmetric Double) algorithm is a recent algorithm that uses a different approach to solving graph isomorphism, by considering a labeled version of the adjacency matrix of the two graphs. The algorithm is based on a combination of matrix factorization and graph partitioning techniques, and has been shown to be highly effective for large graphs.\n",
    "\n",
    "Each of these algorithms has its own strengths and weaknesses, and the choice of algorithm depends on the specific characteristics of the graphs being considered. For example, the Nauty algorithm is often used for small to medium-sized graphs, while the LAD algorithm may be more effective for very large graphs."
   ]
  },
  {
   "attachments": {},
   "cell_type": "markdown",
   "metadata": {},
   "source": [
    "**Brute force search**"
   ]
  },
  {
   "cell_type": "code",
   "execution_count": 13,
   "metadata": {},
   "outputs": [
    {
     "name": "stdout",
     "output_type": "stream",
     "text": [
      "The graphs are isomorphic.\n"
     ]
    }
   ],
   "source": [
    "import itertools\n",
    "import networkx as nx\n",
    "\n",
    "# Define the first graph\n",
    "G1 = nx.Graph()\n",
    "G1.add_nodes_from([1, 2, 3, 4])\n",
    "G1.add_edges_from([(1, 2), (2, 3), (3, 4), (4, 1)])\n",
    "\n",
    "# Define the second graph\n",
    "G2 = nx.Graph()\n",
    "G2.add_nodes_from(['A', 'B', 'C', 'D'])\n",
    "G2.add_edges_from([('A', 'B'), ('B', 'C'), ('C', 'D'), ('D', 'A')])\n",
    "\n",
    "# Define a function to check if two graphs are isomorphic\n",
    "def isomorphic(G1, G2):\n",
    "    # Get the number of nodes in each graph\n",
    "    n1 = G1.number_of_nodes()\n",
    "    n2 = G2.number_of_nodes()\n",
    "    # Check if the number of nodes is the same\n",
    "    if n1 != n2:\n",
    "        return False\n",
    "    # Generate all possible permutations of the node labels in G2\n",
    "    perms = itertools.permutations(G2.nodes())\n",
    "    # Check if any permutation of G2 is isomorphic to G1\n",
    "    for perm in perms:\n",
    "        # Create a new graph with the node labels permuted\n",
    "        G2_perm = nx.relabel_nodes(G2, dict(zip(G2.nodes(), perm)))\n",
    "        # Check if the two graphs have the same edges\n",
    "        if nx.is_isomorphic(G1, G2_perm):\n",
    "            return True\n",
    "    return False\n",
    "\n",
    "# Test the function with the two example graphs\n",
    "if isomorphic(G1, G2):\n",
    "    print(\"The graphs are isomorphic.\")\n",
    "else:\n",
    "    print(\"The graphs are not isomorphic.\")\n"
   ]
  },
  {
   "attachments": {},
   "cell_type": "markdown",
   "metadata": {},
   "source": [
    "In this example, the isomorphic() function takes two networkx graph objects G1 and G2 as input, and returns True if G1 and G2 are isomorphic, and False otherwise. The function first checks if the number of nodes in G1 and G2 is the same. If not, the graphs cannot be isomorphic and the function returns False. If the number of nodes is the same, the function generates all possible permutations of the node labels in G2 using the itertools.permutations() function. For each permutation, the function creates a new graph with the node labels permuted using the nx.relabel_nodes() function. It then checks if this permuted graph is isomorphic to G1 using the nx.is_isomorphic() function. If a match is found, the function returns True. If none of the permutations of G2 match G1, the function returns False."
   ]
  },
  {
   "attachments": {},
   "cell_type": "markdown",
   "metadata": {},
   "source": [
    "**Weisfeiler-Lehman algorithm**"
   ]
  },
  {
   "cell_type": "code",
   "execution_count": 14,
   "metadata": {},
   "outputs": [
    {
     "name": "stdout",
     "output_type": "stream",
     "text": [
      "The graphs are isomorphic.\n"
     ]
    }
   ],
   "source": [
    "import networkx as nx\n",
    "import numpy as np\n",
    "\n",
    "# Define the first graph\n",
    "G1 = nx.Graph()\n",
    "G1.add_nodes_from([1, 2, 3, 4])\n",
    "G1.add_edges_from([(1, 2), (2, 3), (3, 4), (4, 1)])\n",
    "\n",
    "# Define the second graph\n",
    "G2 = nx.Graph()\n",
    "G2.add_nodes_from(['A', 'B', 'C', 'D'])\n",
    "G2.add_edges_from([('A', 'B'), ('B', 'C'), ('C', 'D'), ('D', 'A')])\n",
    "\n",
    "# Define the WL refinement function\n",
    "def WL_refinement(G):\n",
    "    # Initialize the node labels with their degrees\n",
    "    node_labels = dict(G.degree)\n",
    "    # Create a dictionary to store the new node labels\n",
    "    new_node_labels = {}\n",
    "    # Iterate over the nodes in the graph\n",
    "    for node in G.nodes():\n",
    "        # Get the sorted list of neighbor labels\n",
    "        neighbor_labels = sorted([node_labels[neighbor] for neighbor in G.neighbors(node)])\n",
    "        # Combine the node label and the neighbor labels into a string\n",
    "        label = str(node_labels[node]) + ''.join([str(label) for label in neighbor_labels])\n",
    "        # Hash the label into a new integer value\n",
    "        new_label = hash(label)\n",
    "        # Add the new label to the dictionary\n",
    "        new_node_labels[node] = new_label\n",
    "    # Update the node labels in the graph\n",
    "    nx.set_node_attributes(G, values=new_node_labels, name='label')\n",
    "\n",
    "# Define a function to check if two graphs are isomorphic using the WL algorithm\n",
    "def isomorphic_WL(G1, G2, max_iter=10):\n",
    "    # Set the initial node labels in each graph\n",
    "    G1_labels = dict(G1.degree)\n",
    "    G2_labels = dict(G2.degree)\n",
    "    nx.set_node_attributes(G1, values=G1_labels, name='label')\n",
    "    nx.set_node_attributes(G2, values=G2_labels, name='label')\n",
    "    # Iterate the WL refinement algorithm for max_iter iterations\n",
    "    for i in range(max_iter):\n",
    "        # Apply the WL refinement to both graphs\n",
    "        WL_refinement(G1)\n",
    "        WL_refinement(G2)\n",
    "        # Check if the new node labels are the same\n",
    "        if nx.is_isomorphic(G1, G2):\n",
    "            return True\n",
    "    return False\n",
    "\n",
    "# Test the function with the two example graphs\n",
    "if isomorphic_WL(G1, G2):\n",
    "    print(\"The graphs are isomorphic.\")\n",
    "else:\n",
    "    print(\"The graphs are not isomorphic.\")\n"
   ]
  },
  {
   "attachments": {},
   "cell_type": "markdown",
   "metadata": {},
   "source": [
    "In this example, the isomorphic_WL() function takes two networkx graph objects G1 and G2 as input, and returns True if G1 and G2 are isomorphic, and False otherwise. The function first sets the initial node labels in each graph to be their degree values. It then iteratively applies the WL refinement algorithm to both graphs for a specified number of iterations (default is 10). The WL refinement function WL_refinement() takes a graph as input and updates the node labels using the method described above. The function uses the nx.set_node_attributes() function to update the node labels in the graph. Finally, the is_isomorphic() function from the networkx library"
   ]
  },
  {
   "attachments": {},
   "cell_type": "markdown",
   "metadata": {},
   "source": [
    "**Nauty algorithm**"
   ]
  },
  {
   "cell_type": "code",
   "execution_count": 15,
   "metadata": {},
   "outputs": [
    {
     "name": "stdout",
     "output_type": "stream",
     "text": [
      "The graphs are isomorphic.\n"
     ]
    }
   ],
   "source": [
    "import networkx as nx\n",
    "import numpy as np\n",
    "\n",
    "# Define the first graph\n",
    "G1 = nx.Graph()\n",
    "G1.add_nodes_from([1, 2, 3, 4])\n",
    "G1.add_edges_from([(1, 2), (2, 3), (3, 4), (4, 1)])\n",
    "\n",
    "# Define the second graph\n",
    "G2 = nx.Graph()\n",
    "G2.add_nodes_from(['A', 'B', 'C', 'D'])\n",
    "G2.add_edges_from([('A', 'B'), ('B', 'C'), ('C', 'D'), ('D', 'A')])\n",
    "\n",
    "# Define the WL refinement function\n",
    "def WL_refinement(G):\n",
    "    # Initialize the node labels with their degrees\n",
    "    node_labels = dict(G.degree)\n",
    "    # Create a dictionary to store the new node labels\n",
    "    new_node_labels = {}\n",
    "    # Iterate over the nodes in the graph\n",
    "    for node in G.nodes():\n",
    "        # Get the sorted list of neighbor labels\n",
    "        neighbor_labels = sorted([node_labels[neighbor] for neighbor in G.neighbors(node)])\n",
    "        # Combine the node label and the neighbor labels into a string\n",
    "        label = str(node_labels[node]) + ''.join([str(label) for label in neighbor_labels])\n",
    "        # Hash the label into a new integer value\n",
    "        new_label = hash(label)\n",
    "        # Add the new label to the dictionary\n",
    "        new_node_labels[node] = new_label\n",
    "    # Update the node labels in the graph\n",
    "    nx.set_node_attributes(G, values=new_node_labels, name='label')\n",
    "\n",
    "# Define a function to check if two graphs are isomorphic using the WL algorithm\n",
    "def isomorphic_WL(G1, G2, max_iter=10):\n",
    "    # Set the initial node labels in each graph\n",
    "    G1_labels = dict(G1.degree)\n",
    "    G2_labels = dict(G2.degree)\n",
    "    nx.set_node_attributes(G1, values=G1_labels, name='label')\n",
    "    nx.set_node_attributes(G2, values=G2_labels, name='label')\n",
    "    # Iterate the WL refinement algorithm for max_iter iterations\n",
    "    for i in range(max_iter):\n",
    "        # Apply the WL refinement to both graphs\n",
    "        WL_refinement(G1)\n",
    "        WL_refinement(G2)\n",
    "        # Check if the new node labels are the same\n",
    "        if nx.is_isomorphic(G1, G2):\n",
    "            return True\n",
    "    return False\n",
    "\n",
    "# Test the function with the two example graphs\n",
    "if isomorphic_WL(G1, G2):\n",
    "    print(\"The graphs are isomorphic.\")\n",
    "else:\n",
    "    print(\"The graphs are not isomorphic.\")\n"
   ]
  },
  {
   "attachments": {},
   "cell_type": "markdown",
   "metadata": {},
   "source": [
    "This example creates two small example graphs and converts them to the nauty format using the nauty.Graph class. It then computes the automorphism groups of each graph using nauty.autgroup, and checks if the graphs are isomorphic using nauty.are_isomorphic."
   ]
  },
  {
   "attachments": {},
   "cell_type": "markdown",
   "metadata": {},
   "source": [
    "**VF2 algorithm**"
   ]
  },
  {
   "cell_type": "code",
   "execution_count": 16,
   "metadata": {},
   "outputs": [
    {
     "name": "stdout",
     "output_type": "stream",
     "text": [
      "The graphs are isomorphic.\n"
     ]
    }
   ],
   "source": [
    "import networkx as nx\n",
    "from networkx.algorithms.isomorphism import GraphMatcher\n",
    "\n",
    "# Create two example graphs\n",
    "G1 = nx.Graph()\n",
    "G1.add_nodes_from([1, 2, 3])\n",
    "G1.add_edges_from([(1, 2), (2, 3)])\n",
    "\n",
    "G2 = nx.Graph()\n",
    "G2.add_nodes_from(['A', 'B', 'C'])\n",
    "G2.add_edges_from([('A', 'B'), ('B', 'C')])\n",
    "\n",
    "# Compute the VF2 isomorphism between the graphs\n",
    "GM = GraphMatcher(G1, G2)\n",
    "if GM.is_isomorphic():\n",
    "    print(\"The graphs are isomorphic.\")\n",
    "else:\n",
    "    print(\"The graphs are not isomorphic.\")\n"
   ]
  },
  {
   "attachments": {},
   "cell_type": "markdown",
   "metadata": {},
   "source": [
    "This example creates two small example graphs and uses the GraphMatcher class from the networkx.algorithms.isomorphism module to compute the VF2 isomorphism between them. It then checks if the graphs are isomorphic using the is_isomorphic() method of the GraphMatcher object."
   ]
  },
  {
   "attachments": {},
   "cell_type": "markdown",
   "metadata": {},
   "source": [
    "**LAD algorithm**"
   ]
  },
  {
   "cell_type": "code",
   "execution_count": 19,
   "metadata": {},
   "outputs": [],
   "source": [
    "import networkx as nx\n",
    "\n",
    "def lad(G1, G2):\n",
    "    # Check if the two graphs have the same number of nodes and edges\n",
    "    if G1.number_of_nodes() != G2.number_of_nodes() or G1.number_of_edges() != G2.number_of_edges():\n",
    "        return False\n",
    "\n",
    "    # Sort the nodes of G1 and G2 by degree\n",
    "    nodes1 = sorted(G1.nodes(), key=lambda n: G1.degree(n), reverse=True)\n",
    "    nodes2 = sorted(G2.nodes(), key=lambda n: G2.degree(n), reverse=True)\n",
    "\n",
    "    # Compute the degree sequence of G1 and G2\n",
    "    deg_seq1 = [G1.degree(n) for n in nodes1]\n",
    "    deg_seq2 = [G2.degree(n) for n in nodes2]\n",
    "\n",
    "    # Check if the degree sequences of G1 and G2 are the same\n",
    "    if deg_seq1 != deg_seq2:\n",
    "        return False\n",
    "\n",
    "    # Create a mapping between the nodes of G1 and G2\n",
    "    mapping = {}\n",
    "    for i in range(len(nodes1)):\n",
    "        mapping[nodes1[i]] = nodes2[i]\n",
    "\n",
    "    # Compute the adjacency matrix of G1 and G2\n",
    "    adj_matrix1 = nx.to_numpy_matrix(G1, nodelist=nodes1)\n",
    "    adj_matrix2 = nx.to_numpy_matrix(G2, nodelist=nodes2)\n",
    "\n",
    "    # Compute the canonical form of the adjacency matrix of G1\n",
    "    perm = [i for i in range(len(nodes1))]\n",
    "    for i in range(len(nodes1)):\n",
    "        for j in range(i+1, len(nodes1)):\n",
    "            if adj_matrix1[i,j] != adj_matrix1[j,i]:\n",
    "                if adj_matrix1[i,j] > adj_matrix1[j,i]:\n",
    "                    perm[i], perm[j] = perm[j], perm[i]\n",
    "\n",
    "    # Apply the permutation to the adjacency matrix of G1 and the node mapping\n",
    "    adj_matrix1 = adj_matrix1[perm,:][:,perm]\n",
    "    mapping = {nodes1[i]: nodes2[perm[i]] for i in range(len(nodes1))}\n",
    "\n",
    "    # Check if the adjacency matrix of G1 is isomorphic to the adjacency matrix of G2\n",
    "    if not (adj_matrix1 == adj_matrix2).all():\n",
    "        return False\n",
    "\n",
    "    # Check if the node mapping is a valid isomorphism\n",
    "    for n1, n2 in mapping.items():\n",
    "        for nb1 in G1.neighbors(n1):\n",
    "            if nb1 in mapping and G2.has_edge(n2, mapping[nb1]):\n",
    "                continue\n",
    "            else:\n",
    "                return False\n",
    "    return True\n"
   ]
  },
  {
   "attachments": {},
   "cell_type": "markdown",
   "metadata": {},
   "source": [
    "This implementation of the LAD algorithm takes two networkx graphs as input and returns a boolean indicating whether the graphs are isomorphic. Note that this implementation is not as efficient as the bliss implementation and may not work well on very large graphs."
   ]
  },
  {
   "attachments": {},
   "cell_type": "markdown",
   "metadata": {},
   "source": [
    "### Complexity Theory\n",
    "***\n",
    "The complexity theory problem of P vs NP is directly relevant to the Graph Isomorphism Problem, as the problem is known to be in the complexity class NP.\n",
    "\n",
    "If P = NP, then it would be possible to solve the Graph Isomorphism Problem (as well as all other problems in NP) in polynomial time, using a deterministic algorithm. However, if P != NP, then there is no known deterministic algorithm that can solve the problem in polynomial time.\n",
    "\n",
    "The Graph Isomorphism Problem is also closely related to other problems in complexity theory, such as the problem of computing the automorphism group of a graph, which is known to be in the complexity class GI-complete (Graph Isomorphism-complete). A problem is said to be GI-complete if it is at least as hard as the Graph Isomorphism Problem in terms of worst-case time complexity.\n",
    "\n",
    "The best known algorithms for graph isomorphism have worst-case time complexity that ranges from polynomial to exponential, but none of them have been shown to be polynomial-time algorithms. It is an open question whether the Graph Isomorphism Problem is solvable in polynomial time or not, and the resolution of this question would have significant implications for complexity theory and theoretical computer science.\n",
    "\n",
    "In summary, the Graph Isomorphism Problem is an important problem in complexity theory, as it is known to be in the complexity class NP and its worst-case time complexity is not fully understood. The resolution of the P vs NP problem would have direct implications for the complexity of the Graph Isomorphism Problem, as well as many other important computational problems."
   ]
  },
  {
   "attachments": {},
   "cell_type": "markdown",
   "metadata": {},
   "source": [
    "### Applications\n",
    "***\n",
    "Although the Graph Isomorphism Problem is a theoretical problem, it has practical applications in a variety of fields. Here are some examples:\n",
    "\n",
    "- Chemistry: The problem of graph isomorphism arises in the study of molecular structure in chemistry. Chemical molecules can be represented as graphs, where the atoms are the vertices and the chemical bonds are the edges. Graph isomorphism algorithms can be used to identify similar molecules, which can aid in drug discovery, materials science, and chemical engineering.\n",
    "\n",
    "- Computer Science: Graph isomorphism has applications in computer science, particularly in the field of network analysis. Graph isomorphism algorithms can be used to detect patterns in large networks, such as social networks, computer networks, and biological networks. This information can be used to optimize network performance, detect fraud, and analyze biological pathways.\n",
    "\n",
    "- Cryptography: The security of certain encryption schemes is based on the assumption that the Graph Isomorphism Problem is hard to solve. For example, the McEliece cryptosystem is based on the hardness of the Graph Isomorphism Problem and is used in secure communications and military applications.\n",
    "\n",
    "- Mathematics: Graph isomorphism has applications in the field of mathematics, particularly in the study of algebraic and combinatorial structures. Graph isomorphism algorithms can be used to classify graphs into different families, identify symmetries, and study the properties of graphs.\n",
    "\n",
    "- Image Processing: Graph isomorphism algorithms can be used in image processing, particularly in the analysis of biological images. For example, in the study of connectomics, the problem of graph isomorphism arises in the identification of similar neural networks across different brain regions or across different species.\n",
    "\n",
    "The Graph Isomorphism Problem has practical applications in a variety of fields, including chemistry, computer science, cryptography, mathematics, and image processing. The problem arises in the analysis of graphs and can be used to identify similar structures, detect patterns, and classify objects."
   ]
  },
  {
   "attachments": {},
   "cell_type": "markdown",
   "metadata": {},
   "source": [
    "### Recent Developments\n",
    "***\n",
    "In recent years, there have been several significant developments in the field of graph isomorphism, which have the potential to impact a wide range of applications. Here are some examples:\n",
    "\n",
    "- Babai's breakthrough: In 2015, László Babai announced a quasi-polynomial time algorithm for graph isomorphism, which was a major breakthrough in the field. The algorithm runs in time O(nlog^c n), where c is a small constant, and is a significant improvement over the previous best-known algorithm, which had exponential worst-case running time. The algorithm is still too slow to be practical for large graphs, but it represents a major theoretical advance in the field.\n",
    "\n",
    "- Quantum algorithms: There has been recent interest in developing quantum algorithms for graph isomorphism, which could potentially solve the problem in polynomial time. Although no quantum algorithm for graph isomorphism has been discovered yet, progress has been made in developing quantum algorithms for related problems, such as the hidden subgroup problem, which is closely related to graph isomorphism.\n",
    "\n",
    "- Group-theoretic methods: There has been recent progress in using group-theoretic methods to solve graph isomorphism, particularly the use of automorphism groups of graphs. These methods have been shown to be effective for some families of graphs, but their applicability to more general graphs is still an open question.\n",
    "\n",
    "- Machine learning approaches: There has been recent interest in using machine learning approaches to solve graph isomorphism, particularly the use of deep learning methods. These methods have shown promising results for some families of graphs, but their applicability to more general graphs is still an open question.\n",
    "\n",
    "- These recent developments are significant for the field of graph isomorphism, as they represent significant progress towards solving the problem efficiently. Although the problem is still open, these developments provide new avenues for exploration and suggest that progress is still possible. In addition, the techniques developed for graph isomorphism may have broader implications for other problems in theoretical computer science and related fields."
   ]
  },
  {
   "cell_type": "code",
   "execution_count": null,
   "metadata": {},
   "outputs": [],
   "source": []
  },
  {
   "cell_type": "markdown",
   "metadata": {},
   "source": []
  }
 ],
 "metadata": {
  "kernelspec": {
   "display_name": "Python 3",
   "language": "python",
   "name": "python3"
  },
  "language_info": {
   "codemirror_mode": {
    "name": "ipython",
    "version": 3
   },
   "file_extension": ".py",
   "mimetype": "text/x-python",
   "name": "python",
   "nbconvert_exporter": "python",
   "pygments_lexer": "ipython3",
   "version": "3.10.9"
  },
  "orig_nbformat": 4,
  "vscode": {
   "interpreter": {
    "hash": "14ae21c7a4af0dce8ab17fc4c83e28594419423149b1b2991bdb1e84b4a11271"
   }
  }
 },
 "nbformat": 4,
 "nbformat_minor": 2
}
