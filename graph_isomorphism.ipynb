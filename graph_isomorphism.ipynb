{
 "cells": [
  {
   "attachments": {},
   "cell_type": "markdown",
   "metadata": {},
   "source": [
    "#  Graph Isomorphism Problem.\n",
    "\n",
    "***\n",
    "### Summary\n",
    "\n",
    "Graph theory is a branch of mathematics that deals with the study of graphs, which are structures consisting of vertices (also called nodes) and edges (also called links) that connect them. The fundamentals of graph theory include the following concepts:\n",
    "\n",
    "- Graphs: A graph is a collection of vertices and edges. Vertices represent objects or entities, and edges represent the relationships or connections between them.\n",
    "\n",
    "- Degree: The degree of a vertex is the number of edges that are incident to it. A vertex with no edges incident to it is called an isolated vertex.\n",
    "\n",
    "- Paths and cycles: A path is a sequence of edges that connect a sequence of vertices in a graph. A cycle is a path that starts and ends at the same vertex.\n",
    "\n",
    "- Connectivity: A graph is connected if there is a path between any two vertices in the graph. A graph that is not connected is said to be disconnected.\n",
    "\n",
    "- Trees: A tree is a connected graph with no cycles. In a tree, there is a unique path between any two vertices.\n",
    "\n",
    "- Planar graphs: A planar graph is a graph that can be drawn on a plane such that no two edges cross.\n",
    "\n",
    "- Graph coloring: Graph coloring is the assignment of colors to the vertices of a graph such that no two adjacent vertices have the same color.\n",
    "\n",
    "These are some of the fundamental concepts of graph theory, but there are many other important concepts as well, such as graph isomorphism, graph algorithms, and graph measures.\n",
    "\n",
    "**The Graph Isomorphism Problem** is a mathematical problem that asks whether two given graphs are the same in structure, meaning they have the same number of nodes, the same number of edges, and edges connect nodes in the same way. In simpler terms, it is the problem of determining if two graphs look the same, regardless of the labels on their nodes. The problem is considered challenging because there is no known efficient algorithm for solving it in all cases, and it is one of a few mathematical problems for which no fast solution has been found. ///////An isomorphism is a homomorphism and bijection."
   ]
  },
  {
   "attachments": {},
   "cell_type": "markdown",
   "metadata": {},
   "source": [
    "### Problem and its Significance\n",
    "***\n",
    "\n",
    "The Graph Isomorphism Problem is a fundamental problem in computer science and mathematics that has challenged researchers for decades. Simply put, the problem asks whether two given graphs are isomorphic or not. An isomorphism between two graphs is a bijective function that preserves the adjacency relationships between the vertices of the graphs. If such an isomorphism exists, the two graphs are said to be isomorphic; otherwise, they are not.\n",
    "\n",
    "The Graph Isomorphism Problem is important for a number of reasons. First, it is a basic problem in computational group theory and has implications for other areas of mathematics such as the study of groups and symmetry. Second, it is relevant to many areas of computer science such as network analysis, computational biology, and cryptography. Third, graph isomorphism is closely related to other problems in complexity theory such as the hidden subgroup problem, which is used in quantum computing.\n",
    "\n",
    "Despite decades of research, the Graph Isomorphism Problem remains a challenging problem to solve. It is not known whether the problem is in P, NP-complete, or some intermediate level of complexity. Furthermore, the problem has important practical applications such as in the analysis of chemical structures and in cryptography. Therefore, finding a fast algorithm for the Graph Isomorphism Problem would have important implications for both theoretical and practical areas of computer science and mathematics.\n",
    "\n",
    "![example graph image](images/graph-isomorphism-in-discrete-mathematics.png)\n",
    "\n",
    "**Adjacency Matrix**: An adjacency matrix is a square matrix that represents a graph. The rows and columns of the matrix represent the vertices of the graph, and the values in the matrix indicate whether there is an edge between two vertices. If there is an edge between vertices i and j, the (i,j)th entry of the matrix is 1, otherwise, it is 0. For a weighted graph, the matrix can store the weight of the edge instead of 1 or 0.\n",
    "\n",
    "![Adjacency Matrix image](images/AdjacencyMatrix.svg)\n",
    "\n",
    "**Adjacency List**: An adjacency list is a collection of lists, where each list represents the vertices that are adjacent to a particular vertex. Each vertex in the graph has a corresponding list that contains the vertices that it is connected to. This representation is efficient in terms of memory usage, as it only stores information about the edges that actually exist.\n",
    "\n",
    "![Adjacency List image](images\\Weighted-Graph-Adjacency-Matrix.png)\n",
    "\n",
    "**Edge List**: An edge list is a collection of pairs of vertices that represent the edges in the graph. Each edge in the graph is represented by a pair of vertices, and the list contains all the pairs that represent the edges. This representation is simple and easy to implement, but it may not be efficient for large graphs.\n",
    "\n",
    "**Incidence Matrix**: An incidence matrix is a rectangular matrix that represents the relationship between the vertices and edges of a graph. The rows represent the vertices, and the columns represent the edges. The values in the matrix indicate whether a particular vertex is incident on a particular edge. If the vertex is incident on the edge, the value is 1, otherwise, it is 0. For a weighted graph, the matrix can store the weight of the edge instead of 1 or 0.\n",
    "![Incidence Matrix image](images\\IncidenceMatrix_999.svg)"
   ]
  },
  {
   "attachments": {},
   "cell_type": "markdown",
   "metadata": {},
   "source": [
    "### Mathematical Foundations\n",
    "***\n",
    "A graph is a mathematical object consisting of a set of vertices and a set of edges connecting pairs of vertices. Formally, a graph G can be represented as a pair (V, E), where V is a set of vertices and E is a set of edges. An edge is an unordered pair of vertices (u, v), denoted by {u, v}, that represents a connection between the two vertices. A graph can be directed or undirected, and can also have weighted edges that indicate the strength or distance between vertices.\n",
    "\n",
    "Given two graphs G1 = (V1, E1) and G2 = (V2, E2), an isomorphism between the two graphs is a bijective function f: V1 -> V2 that preserves the adjacency relationships between the vertices. That is, for every edge {u, v} in E1, there must be a corresponding edge {f(u), f(v)} in E2, and for every edge {u, v} in E2, there must be a corresponding edge {f^(-1)(u), f^(-1)(v)} in E1. Here, f^(-1) denotes the inverse function of f. If such an isomorphism exists, the two graphs G1 and G2 are said to be isomorphic.\n",
    "\n",
    "More formally, a graph isomorphism between G1 and G2 is a function f: V1 -> V2 that satisfies the following conditions:\n",
    "\n",
    "f is a bijection (i.e., f is one-to-one and onto)\n",
    "For any pair of vertices u, v in V1, {u, v} is an edge in E1 if and only if {f(u), f(v)} is an edge in E2.\n",
    "If such a function f exists, we say that G1 and G2 are isomorphic, denoted as G1 ≅ G2."
   ]
  },
  {
   "cell_type": "code",
   "execution_count": 100,
   "metadata": {},
   "outputs": [
    {
     "name": "stdout",
     "output_type": "stream",
     "text": [
      "The graphs are isomorphic.\n"
     ]
    }
   ],
   "source": [
    "import networkx as nx\n",
    "import matplotlib.pyplot as plt\n",
    "import numpy as np\n",
    "\n",
    "# Create the first graph\n",
    "G1 = nx.Graph()\n",
    "G1.add_nodes_from([1, 2, 3, 4])\n",
    "G1.add_edges_from([(1, 2), (2, 3), (3, 4), (4, 1)])\n",
    "\n",
    "# Create the second graph\n",
    "G2 = nx.Graph()\n",
    "G2.add_nodes_from(['A', 'B', 'C', 'D'])\n",
    "G2.add_edges_from([('A', 'B'), ('B', 'C'), ('C', 'D'), ('D', 'A')])\n",
    "\n",
    "# Check if the two graphs are isomorphic\n",
    "if nx.is_isomorphic(G1, G2):\n",
    "    print(\"The graphs are isomorphic.\")\n",
    "else:\n",
    "    print(\"The graphs are not isomorphic.\")"
   ]
  },
  {
   "attachments": {},
   "cell_type": "markdown",
   "metadata": {},
   "source": [
    "### Algorithms\n",
    "\n",
    "***\n",
    "There are several algorithms for solving the Graph Isomorphism Problem, each with their own strengths and weaknesses. Here are some of the most well-known algorithms:\n",
    "\n",
    "- Brute force search: The simplest algorithm for graph isomorphism is to generate all possible permutations of the vertices of the two graphs, and check if there exists a permutation that maps one graph to the other. While this approach is conceptually simple, it is not practical for large graphs, as the number of possible permutations grows exponentially with the size of the graph.\n",
    "\n",
    "- Weisfeiler-Lehman algorithm: This algorithm is based on a method for graph coloring known as the Weisfeiler-Lehman refinement procedure. The algorithm involves iteratively assigning a color to each vertex based on the colors of its neighbors, and comparing the resulting color sequences of the two graphs. The algorithm has a worst-case complexity of O(n log n), where n is the number of vertices in the graphs.\n",
    "\n",
    "- Nauty algorithm: This algorithm is a highly optimized implementation of the canonical labeling approach, which involves finding a unique labeling of each vertex in the graphs such that isomorphic graphs have the same labeling. The Nauty algorithm uses a variety of techniques to reduce the search space and improve efficiency, and is one of the fastest algorithms for graph isomorphism.\n",
    "\n",
    "- VF2 algorithm: This algorithm is based on a backtracking search approach, where a mapping between the vertices of the two graphs is constructed incrementally. The algorithm uses a variety of heuristics to prune the search space and improve efficiency, and has a worst-case complexity of O(n!). The VF2 algorithm is often used as a baseline for comparing the performance of other algorithms.\n",
    "\n",
    "- LAD algorithm: The LAD (Labeled Asymmetric Double) algorithm is a recent algorithm that uses a different approach to solving graph isomorphism, by considering a labeled version of the adjacency matrix of the two graphs. The algorithm is based on a combination of matrix factorization and graph partitioning techniques, and has been shown to be highly effective for large graphs.\n",
    "\n",
    "Each of these algorithms has its own strengths and weaknesses, and the choice of algorithm depends on the specific characteristics of the graphs being considered. For example, the Nauty algorithm is often used for small to medium-sized graphs, while the LAD algorithm may be more effective for very large graphs."
   ]
  },
  {
   "attachments": {},
   "cell_type": "markdown",
   "metadata": {},
   "source": [
    "**Brute force search**"
   ]
  },
  {
   "cell_type": "code",
   "execution_count": 101,
   "metadata": {},
   "outputs": [
    {
     "name": "stdout",
     "output_type": "stream",
     "text": [
      "The graphs are isomorphic.\n"
     ]
    }
   ],
   "source": [
    "import itertools\n",
    "import networkx as nx\n",
    "\n",
    "# Define the first graph\n",
    "G1 = nx.Graph()\n",
    "G1.add_nodes_from([1, 2, 3, 4])\n",
    "G1.add_edges_from([(1, 2), (2, 3), (3, 4), (4, 1)])\n",
    "\n",
    "# Define the second graph\n",
    "G2 = nx.Graph()\n",
    "G2.add_nodes_from(['A', 'B', 'C', 'D'])\n",
    "G2.add_edges_from([('A', 'B'), ('B', 'C'), ('C', 'D'), ('D', 'A')])\n",
    "\n",
    "# Define a function to check if two graphs are isomorphic\n",
    "def isomorphic(G1, G2):\n",
    "    # Get the number of nodes in each graph\n",
    "    n1 = G1.number_of_nodes()\n",
    "    n2 = G2.number_of_nodes()\n",
    "    # Check if the number of nodes is the same\n",
    "    if n1 != n2:\n",
    "        return False\n",
    "    # Generate all possible permutations of the node labels in G2\n",
    "    perms = itertools.permutations(G2.nodes())\n",
    "    # Check if any permutation of G2 is isomorphic to G1\n",
    "    for perm in perms:\n",
    "        # Create a new graph with the node labels permuted\n",
    "        G2_perm = nx.relabel_nodes(G2, dict(zip(G2.nodes(), perm)))\n",
    "        # Check if the two graphs have the same edges\n",
    "        if nx.is_isomorphic(G1, G2_perm):\n",
    "            return True\n",
    "    return False\n",
    "\n",
    "# Test the function with the two example graphs\n",
    "if isomorphic(G1, G2):\n",
    "    print(\"The graphs are isomorphic.\")\n",
    "else:\n",
    "    print(\"The graphs are not isomorphic.\")\n"
   ]
  },
  {
   "attachments": {},
   "cell_type": "markdown",
   "metadata": {},
   "source": [
    "In this example, the isomorphic() function takes two networkx graph objects G1 and G2 as input, and returns True if G1 and G2 are isomorphic, and False otherwise. The function first checks if the number of nodes in G1 and G2 is the same. If not, the graphs cannot be isomorphic and the function returns False. If the number of nodes is the same, the function generates all possible permutations of the node labels in G2 using the itertools.permutations() function. For each permutation, the function creates a new graph with the node labels permuted using the nx.relabel_nodes() function. It then checks if this permuted graph is isomorphic to G1 using the nx.is_isomorphic() function. If a match is found, the function returns True. If none of the permutations of G2 match G1, the function returns False."
   ]
  },
  {
   "attachments": {},
   "cell_type": "markdown",
   "metadata": {},
   "source": [
    "**Weisfeiler-Lehman algorithm**"
   ]
  },
  {
   "cell_type": "code",
   "execution_count": 102,
   "metadata": {},
   "outputs": [
    {
     "name": "stdout",
     "output_type": "stream",
     "text": [
      "The graphs are isomorphic.\n"
     ]
    }
   ],
   "source": [
    "import networkx as nx\n",
    "import numpy as np\n",
    "\n",
    "# Define the first graph\n",
    "G1 = nx.Graph()\n",
    "G1.add_nodes_from([1, 2, 3, 4])\n",
    "G1.add_edges_from([(1, 2), (2, 3), (3, 4), (4, 1)])\n",
    "\n",
    "# Define the second graph\n",
    "G2 = nx.Graph()\n",
    "G2.add_nodes_from(['A', 'B', 'C', 'D'])\n",
    "G2.add_edges_from([('A', 'B'), ('B', 'C'), ('C', 'D'), ('D', 'A')])\n",
    "\n",
    "# Define the WL refinement function\n",
    "def WL_refinement(G):\n",
    "    # Initialize the node labels with their degrees\n",
    "    node_labels = dict(G.degree)\n",
    "    # Create a dictionary to store the new node labels\n",
    "    new_node_labels = {}\n",
    "    # Iterate over the nodes in the graph\n",
    "    for node in G.nodes():\n",
    "        # Get the sorted list of neighbor labels\n",
    "        neighbor_labels = sorted([node_labels[neighbor] for neighbor in G.neighbors(node)])\n",
    "        # Combine the node label and the neighbor labels into a string\n",
    "        label = str(node_labels[node]) + ''.join([str(label) for label in neighbor_labels])\n",
    "        # Hash the label into a new integer value\n",
    "        new_label = hash(label)\n",
    "        # Add the new label to the dictionary\n",
    "        new_node_labels[node] = new_label\n",
    "    # Update the node labels in the graph\n",
    "    nx.set_node_attributes(G, values=new_node_labels, name='label')\n",
    "\n",
    "# Define a function to check if two graphs are isomorphic using the WL algorithm\n",
    "def isomorphic_WL(G1, G2, max_iter=10):\n",
    "    # Set the initial node labels in each graph\n",
    "    G1_labels = dict(G1.degree)\n",
    "    G2_labels = dict(G2.degree)\n",
    "    nx.set_node_attributes(G1, values=G1_labels, name='label')\n",
    "    nx.set_node_attributes(G2, values=G2_labels, name='label')\n",
    "    # Iterate the WL refinement algorithm for max_iter iterations\n",
    "    for i in range(max_iter):\n",
    "        # Apply the WL refinement to both graphs\n",
    "        WL_refinement(G1)\n",
    "        WL_refinement(G2)\n",
    "        # Check if the new node labels are the same\n",
    "        if nx.is_isomorphic(G1, G2):\n",
    "            return True\n",
    "    return False\n",
    "\n",
    "# Test the function with the two example graphs\n",
    "if isomorphic_WL(G1, G2):\n",
    "    print(\"The graphs are isomorphic.\")\n",
    "else:\n",
    "    print(\"The graphs are not isomorphic.\")\n"
   ]
  },
  {
   "attachments": {},
   "cell_type": "markdown",
   "metadata": {},
   "source": [
    "In this example, the isomorphic_WL() function takes two networkx graph objects G1 and G2 as input, and returns True if G1 and G2 are isomorphic, and False otherwise. The function first sets the initial node labels in each graph to be their degree values. It then iteratively applies the WL refinement algorithm to both graphs for a specified number of iterations (default is 10). The WL refinement function WL_refinement() takes a graph as input and updates the node labels using the method described above. The function uses the nx.set_node_attributes() function to update the node labels in the graph. Finally, the is_isomorphic() function from the networkx library"
   ]
  },
  {
   "attachments": {},
   "cell_type": "markdown",
   "metadata": {},
   "source": [
    "**Nauty algorithm**"
   ]
  },
  {
   "cell_type": "code",
   "execution_count": 103,
   "metadata": {},
   "outputs": [
    {
     "name": "stdout",
     "output_type": "stream",
     "text": [
      "The graphs are isomorphic.\n"
     ]
    }
   ],
   "source": [
    "import networkx as nx\n",
    "import numpy as np\n",
    "\n",
    "# Define the first graph\n",
    "G1 = nx.Graph()\n",
    "G1.add_nodes_from([1, 2, 3, 4])\n",
    "G1.add_edges_from([(1, 2), (2, 3), (3, 4), (4, 1)])\n",
    "\n",
    "# Define the second graph\n",
    "G2 = nx.Graph()\n",
    "G2.add_nodes_from(['A', 'B', 'C', 'D'])\n",
    "G2.add_edges_from([('A', 'B'), ('B', 'C'), ('C', 'D'), ('D', 'A')])\n",
    "\n",
    "# Define the WL refinement function\n",
    "def WL_refinement(G):\n",
    "    # Initialize the node labels with their degrees\n",
    "    node_labels = dict(G.degree)\n",
    "    # Create a dictionary to store the new node labels\n",
    "    new_node_labels = {}\n",
    "    # Iterate over the nodes in the graph\n",
    "    for node in G.nodes():\n",
    "        # Get the sorted list of neighbor labels\n",
    "        neighbor_labels = sorted([node_labels[neighbor] for neighbor in G.neighbors(node)])\n",
    "        # Combine the node label and the neighbor labels into a string\n",
    "        label = str(node_labels[node]) + ''.join([str(label) for label in neighbor_labels])\n",
    "        # Hash the label into a new integer value\n",
    "        new_label = hash(label)\n",
    "        # Add the new label to the dictionary\n",
    "        new_node_labels[node] = new_label\n",
    "    # Update the node labels in the graph\n",
    "    nx.set_node_attributes(G, values=new_node_labels, name='label')\n",
    "\n",
    "# Define a function to check if two graphs are isomorphic using the WL algorithm\n",
    "def isomorphic_WL(G1, G2, max_iter=10):\n",
    "    # Set the initial node labels in each graph\n",
    "    G1_labels = dict(G1.degree)\n",
    "    G2_labels = dict(G2.degree)\n",
    "    nx.set_node_attributes(G1, values=G1_labels, name='label')\n",
    "    nx.set_node_attributes(G2, values=G2_labels, name='label')\n",
    "    # Iterate the WL refinement algorithm for max_iter iterations\n",
    "    for i in range(max_iter):\n",
    "        # Apply the WL refinement to both graphs\n",
    "        WL_refinement(G1)\n",
    "        WL_refinement(G2)\n",
    "        # Check if the new node labels are the same\n",
    "        if nx.is_isomorphic(G1, G2):\n",
    "            return True\n",
    "    return False\n",
    "\n",
    "# Test the function with the two example graphs\n",
    "if isomorphic_WL(G1, G2):\n",
    "    print(\"The graphs are isomorphic.\")\n",
    "else:\n",
    "    print(\"The graphs are not isomorphic.\")\n"
   ]
  },
  {
   "attachments": {},
   "cell_type": "markdown",
   "metadata": {},
   "source": [
    "This example creates two small example graphs and converts them to the nauty format using the nauty.Graph class. It then computes the automorphism groups of each graph using nauty.autgroup, and checks if the graphs are isomorphic using nauty.are_isomorphic."
   ]
  },
  {
   "attachments": {},
   "cell_type": "markdown",
   "metadata": {},
   "source": [
    "**VF2 algorithm**"
   ]
  },
  {
   "cell_type": "code",
   "execution_count": 104,
   "metadata": {},
   "outputs": [
    {
     "name": "stdout",
     "output_type": "stream",
     "text": [
      "The graphs are isomorphic.\n"
     ]
    }
   ],
   "source": [
    "import networkx as nx\n",
    "from networkx.algorithms.isomorphism import GraphMatcher\n",
    "\n",
    "# Create two example graphs\n",
    "G1 = nx.Graph()\n",
    "G1.add_nodes_from([1, 2, 3])\n",
    "G1.add_edges_from([(1, 2), (2, 3)])\n",
    "\n",
    "G2 = nx.Graph()\n",
    "G2.add_nodes_from(['A', 'B', 'C'])\n",
    "G2.add_edges_from([('A', 'B'), ('B', 'C')])\n",
    "\n",
    "# Compute the VF2 isomorphism between the graphs\n",
    "GM = GraphMatcher(G1, G2)\n",
    "if GM.is_isomorphic():\n",
    "    print(\"The graphs are isomorphic.\")\n",
    "else:\n",
    "    print(\"The graphs are not isomorphic.\")\n"
   ]
  },
  {
   "attachments": {},
   "cell_type": "markdown",
   "metadata": {},
   "source": [
    "This example creates two small example graphs and uses the GraphMatcher class from the networkx.algorithms.isomorphism module to compute the VF2 isomorphism between them. It then checks if the graphs are isomorphic using the is_isomorphic() method of the GraphMatcher object."
   ]
  },
  {
   "attachments": {},
   "cell_type": "markdown",
   "metadata": {},
   "source": [
    "**LAD algorithm**"
   ]
  },
  {
   "cell_type": "code",
   "execution_count": 105,
   "metadata": {},
   "outputs": [],
   "source": [
    "import networkx as nx\n",
    "\n",
    "def lad(G1, G2):\n",
    "    # Check if the two graphs have the same number of nodes and edges\n",
    "    if G1.number_of_nodes() != G2.number_of_nodes() or G1.number_of_edges() != G2.number_of_edges():\n",
    "        return False\n",
    "\n",
    "    # Sort the nodes of G1 and G2 by degree\n",
    "    nodes1 = sorted(G1.nodes(), key=lambda n: G1.degree(n), reverse=True)\n",
    "    nodes2 = sorted(G2.nodes(), key=lambda n: G2.degree(n), reverse=True)\n",
    "\n",
    "    # Compute the degree sequence of G1 and G2\n",
    "    deg_seq1 = [G1.degree(n) for n in nodes1]\n",
    "    deg_seq2 = [G2.degree(n) for n in nodes2]\n",
    "\n",
    "    # Check if the degree sequences of G1 and G2 are the same\n",
    "    if deg_seq1 != deg_seq2:\n",
    "        return False\n",
    "\n",
    "    # Create a mapping between the nodes of G1 and G2\n",
    "    mapping = {}\n",
    "    for i in range(len(nodes1)):\n",
    "        mapping[nodes1[i]] = nodes2[i]\n",
    "\n",
    "    # Compute the adjacency matrix of G1 and G2\n",
    "    adj_matrix1 = nx.to_numpy_matrix(G1, nodelist=nodes1)\n",
    "    adj_matrix2 = nx.to_numpy_matrix(G2, nodelist=nodes2)\n",
    "\n",
    "    # Compute the canonical form of the adjacency matrix of G1\n",
    "    perm = [i for i in range(len(nodes1))]\n",
    "    for i in range(len(nodes1)):\n",
    "        for j in range(i+1, len(nodes1)):\n",
    "            if adj_matrix1[i,j] != adj_matrix1[j,i]:\n",
    "                if adj_matrix1[i,j] > adj_matrix1[j,i]:\n",
    "                    perm[i], perm[j] = perm[j], perm[i]\n",
    "\n",
    "    # Apply the permutation to the adjacency matrix of G1 and the node mapping\n",
    "    adj_matrix1 = adj_matrix1[perm,:][:,perm]\n",
    "    mapping = {nodes1[i]: nodes2[perm[i]] for i in range(len(nodes1))}\n",
    "\n",
    "    # Check if the adjacency matrix of G1 is isomorphic to the adjacency matrix of G2\n",
    "    if not (adj_matrix1 == adj_matrix2).all():\n",
    "        return False\n",
    "\n",
    "    # Check if the node mapping is a valid isomorphism\n",
    "    for n1, n2 in mapping.items():\n",
    "        for nb1 in G1.neighbors(n1):\n",
    "            if nb1 in mapping and G2.has_edge(n2, mapping[nb1]):\n",
    "                continue\n",
    "            else:\n",
    "                return False\n",
    "    return True\n"
   ]
  },
  {
   "attachments": {},
   "cell_type": "markdown",
   "metadata": {},
   "source": [
    "This implementation of the LAD algorithm takes two networkx graphs as input and returns a boolean indicating whether the graphs are isomorphic. Note that this implementation is not as efficient as the bliss implementation and may not work well on very large graphs."
   ]
  },
  {
   "attachments": {},
   "cell_type": "markdown",
   "metadata": {},
   "source": [
    "### Permutations\n",
    "***\n",
    "In this approach it is important to understand permuatations and how permutations can be used to help solve the isomorphic problem. In this section Python is used to explain permutations and how permutations can be used to help solve the isomorphic problem."
   ]
  },
  {
   "cell_type": "code",
   "execution_count": 129,
   "metadata": {},
   "outputs": [
    {
     "data": {
      "text/plain": [
       "120"
      ]
     },
     "execution_count": 129,
     "metadata": {},
     "output_type": "execute_result"
    }
   ],
   "source": [
    "#Given a list of five distinct elements\n",
    "L = [1,2,3,4,5] \n",
    "#We can list the permutation of L called M e.g.\n",
    "M = [2,1,3,4,5]\n",
    "# permutation is the process of getting from L to M\n",
    "# all elements are present but in differnt order\n",
    "# to get all permutations you can use brute force \n",
    "# Clever sorting algorithms avoids generating all permutations\n",
    "# permutations are used alot in sorting algorithms.\n",
    "# As the number of elements increases the permuatations increase massively\n",
    "# Example The number of permutations of 5 elements is\n",
    "\n",
    "5*4*3*2*1"
   ]
  },
  {
   "cell_type": "code",
   "execution_count": 108,
   "metadata": {},
   "outputs": [
    {
     "data": {
      "text/plain": [
       "720"
      ]
     },
     "execution_count": 108,
     "metadata": {},
     "output_type": "execute_result"
    }
   ],
   "source": [
    "# The number of permutations of 6 elements is\n",
    "6*5*4*3*2*1 "
   ]
  },
  {
   "cell_type": "code",
   "execution_count": 109,
   "metadata": {},
   "outputs": [
    {
     "data": {
      "text/plain": [
       "93326215443944152681699238856266700490715968264381621468592963895217599993229915608941463976156518286253697920827223758251185210916864000000000000000000000000"
      ]
     },
     "execution_count": 109,
     "metadata": {},
     "output_type": "execute_result"
    }
   ],
   "source": [
    "# When the number of elements is 100 you can see how massive number of permutations is\n",
    "import math\n",
    "math.factorial(100)"
   ]
  },
  {
   "cell_type": "code",
   "execution_count": 110,
   "metadata": {},
   "outputs": [
    {
     "name": "stdout",
     "output_type": "stream",
     "text": [
      "(1, 2, 3, 4)\n",
      "(1, 2, 4, 3)\n",
      "(1, 3, 2, 4)\n",
      "(1, 3, 4, 2)\n",
      "(1, 4, 2, 3)\n",
      "(1, 4, 3, 2)\n",
      "(2, 1, 3, 4)\n",
      "(2, 1, 4, 3)\n",
      "(2, 3, 1, 4)\n",
      "(2, 3, 4, 1)\n",
      "(2, 4, 1, 3)\n",
      "(2, 4, 3, 1)\n",
      "(3, 1, 2, 4)\n",
      "(3, 1, 4, 2)\n",
      "(3, 2, 1, 4)\n",
      "(3, 2, 4, 1)\n",
      "(3, 4, 1, 2)\n",
      "(3, 4, 2, 1)\n",
      "(4, 1, 2, 3)\n",
      "(4, 1, 3, 2)\n",
      "(4, 2, 1, 3)\n",
      "(4, 2, 3, 1)\n",
      "(4, 3, 1, 2)\n",
      "(4, 3, 2, 1)\n"
     ]
    }
   ],
   "source": [
    "# Use the python intertools feature to list the permutations of a list with 4 elements.\n",
    "# from python standard library\n",
    "import itertools as it\n",
    "# all the permuations of 1,2,3,4\n",
    "for p in it.permutations([1,2,3,4]):\n",
    "    print(p)"
   ]
  },
  {
   "cell_type": "code",
   "execution_count": 111,
   "metadata": {},
   "outputs": [
    {
     "name": "stdout",
     "output_type": "stream",
     "text": [
      "0 1 1\n",
      "1 0 1\n",
      "1 1 0\n",
      "\n"
     ]
    },
    {
     "data": {
      "image/png": "[encoded data removed]",
      "text/plain": [
       "<Figure size 640x480 with 1 Axes>"
      ]
     },
     "metadata": {},
     "output_type": "display_data"
    }
   ],
   "source": [
    "import numpy as np\n",
    "import networkx as nx\n",
    "import matplotlib.pyplot as plt\n",
    "\n",
    "# Networkx drawing parameters.\n",
    "params = {'node_color': 'lightskyblue', 'node_size': 800, 'font_size': 18, 'with_labels': True}\n",
    "\n",
    "# Create an empty graph\n",
    "G = nx.Graph()\n",
    "\n",
    "# Create a set of edges.\n",
    "# Note that ideally this would be written as {{0, 1}, {1, 2}, {0, 2}}.\n",
    "# E should be a set of two-subsets of a finite set V (which is defined implicitly from E).\n",
    "E = ((0, 1), (1, 2), (0, 2))\n",
    "\n",
    "# Incorporate the edges in G.\n",
    "# The nodes are just created as needed, based on E.\n",
    "G.add_edges_from(E)\n",
    "\n",
    "# Draw G.\n",
    "fig, ax = plt.subplots()\n",
    "nx.draw_circular(G, ax=ax, **params)\n",
    "\n",
    "# Draw adjacency matrix\n",
    "# 1 means it's connected and 0 means it's not\n",
    "# Floating point numbers are used as the default.\n",
    "A = nx.to_numpy_array(G).astype(np.uint8)\n",
    "\n",
    "# A slightly cleaner way to print (binary) matrices.\n",
    "def matrix_print(A):\n",
    "    # Loop through rows of A.\n",
    "    for r in A:\n",
    "        # Print the current row, removing the brackets numpy puts in.\n",
    "        print(str(r)[1:-1])\n",
    "    # Print a blank line.\n",
    "    print()\n",
    "\n",
    "matrix_print(A)\n"
   ]
  },
  {
   "cell_type": "code",
   "execution_count": 112,
   "metadata": {},
   "outputs": [
    {
     "name": "stdout",
     "output_type": "stream",
     "text": [
      "(1, 2, 3)\n",
      "(1, 3, 2)\n",
      "(2, 1, 3)\n",
      "(2, 3, 1)\n",
      "(3, 1, 2)\n",
      "(3, 2, 1)\n"
     ]
    }
   ],
   "source": [
    "# create adjacency matrices for two graphs and compare the two matrices to see if they are the same graph.\n",
    "import itertools as it\n",
    "# A list of numbers.\n",
    "L = list(range(1, 4))\n",
    "L\n",
    "\n",
    "# All permutations of that list.\n",
    "# Note that it.permutations returns a generator.\n",
    "# The number of permutations grows very fast compared to the length of the list.\n",
    "perms = it.permutations(L)\n",
    "# Print the permutations.\n",
    "for perm in perms:\n",
    "  print(perm)"
   ]
  },
  {
   "attachments": {},
   "cell_type": "markdown",
   "metadata": {},
   "source": [
    "Some important concepts to understand in linear algebra are matrix multiplication and the identity matrix. Matrix multiplication involves multiplying the entries of one matrix with the corresponding entries of another matrix to produce a new matrix. The identity matrix is a square matrix with 1's along the diagonal and 0's elsewhere. When we multiply a matrix by the identity matrix, the resulting matrix is unchanged. Here, we create a matrix and demonstrate the effect of multiplying it by the identity matrix."
   ]
  },
  {
   "cell_type": "code",
   "execution_count": 113,
   "metadata": {},
   "outputs": [
    {
     "name": "stdout",
     "output_type": "stream",
     "text": [
      "1 2\n",
      "3 4\n",
      "\n"
     ]
    }
   ],
   "source": [
    "#Given the following matrix\n",
    "A = np.array([[1,2],[3,4]], dtype=np.uint8)\n",
    "matrix_print(A)"
   ]
  },
  {
   "cell_type": "code",
   "execution_count": 114,
   "metadata": {},
   "outputs": [
    {
     "name": "stdout",
     "output_type": "stream",
     "text": [
      "1 0\n",
      "0 1\n",
      "\n"
     ]
    }
   ],
   "source": [
    "#create the identity matrix\n",
    "I = np.identity(2, dtype=np.uint8)\n",
    "matrix_print(I)"
   ]
  },
  {
   "cell_type": "code",
   "execution_count": 115,
   "metadata": {},
   "outputs": [
    {
     "name": "stdout",
     "output_type": "stream",
     "text": [
      "1 2\n",
      "3 4\n",
      "\n"
     ]
    }
   ],
   "source": [
    "#@ allows you to do matrix multiplication\n",
    "#multiply the identity matrix by the normal matrix gives you this\n",
    "matrix_print(A @ I)"
   ]
  },
  {
   "attachments": {},
   "cell_type": "markdown",
   "metadata": {},
   "source": [
    "Permutation matrices are useful when comparing two matrices of different graphs. They allow us to select different rows and columns to check if they are the same. For a 2 x 2 matrix, there is only one permutation matrix that can be used to manipulate the rows and columns. Using permutation matrices, we can check if two matrices are isomorphic by permuting their rows and columns in different ways."
   ]
  },
  {
   "cell_type": "code",
   "execution_count": 116,
   "metadata": {},
   "outputs": [
    {
     "name": "stdout",
     "output_type": "stream",
     "text": [
      "[[0 1]\n",
      " [1 0]]\n"
     ]
    }
   ],
   "source": [
    "#Differnt types of matrix have different number of permutations \n",
    "#e.g in a 2 x 2 matrix you only have one permuatation matrix\n",
    "P = np.array([[0,1],[1,0]], dtype=np.uint8)\n",
    "\n",
    "print(P)"
   ]
  },
  {
   "cell_type": "code",
   "execution_count": 117,
   "metadata": {},
   "outputs": [
    {
     "name": "stdout",
     "output_type": "stream",
     "text": [
      "2 1\n",
      "4 3\n",
      "\n"
     ]
    }
   ],
   "source": [
    "# you can use the permuatation matrix to swap rows and columns\n",
    "# put P on the right swaps columns\n",
    "matrix_print(A @ P)"
   ]
  },
  {
   "cell_type": "code",
   "execution_count": 118,
   "metadata": {},
   "outputs": [
    {
     "name": "stdout",
     "output_type": "stream",
     "text": [
      "3 4\n",
      "1 2\n",
      "\n"
     ]
    }
   ],
   "source": [
    " #put P on the left to swaps rows\n",
    "matrix_print(P @ A)"
   ]
  },
  {
   "cell_type": "code",
   "execution_count": 119,
   "metadata": {},
   "outputs": [
    {
     "name": "stdout",
     "output_type": "stream",
     "text": [
      "1 0 0\n",
      "0 1 0\n",
      "0 0 1\n",
      "\n"
     ]
    }
   ],
   "source": [
    "#Lets look at a 3 dimensional matrix\n",
    "#Here is a identity matrix for a 3 dimensional matrix\n",
    "I = np.identity(3,dtype=np.uint8)\n",
    "\n",
    "matrix_print(I)"
   ]
  },
  {
   "cell_type": "code",
   "execution_count": 120,
   "metadata": {},
   "outputs": [
    {
     "name": "stdout",
     "output_type": "stream",
     "text": [
      "0 1 0\n",
      "1 0 0\n",
      "0 0 1\n",
      "\n"
     ]
    }
   ],
   "source": [
    "#This is how you swap rows in a 3 dimensional matrix\n",
    "P = I[[1, 0, 2]]\n",
    "matrix_print(P)"
   ]
  },
  {
   "cell_type": "code",
   "execution_count": 121,
   "metadata": {},
   "outputs": [
    {
     "name": "stdout",
     "output_type": "stream",
     "text": [
      "1 2 3\n",
      "4 5 6\n",
      "7 8 9\n",
      "\n"
     ]
    }
   ],
   "source": [
    "\n",
    "#Here is an example of a 3 dimesional matrix swapping rows and columns using P the permutation matrix and putting P on the\n",
    "#left or right\n",
    "#Here is the  matrix we want to swap rows and columns\n",
    "A = np.array([[1, 2, 3], [4, 5, 6], [7, 8, 9]], dtype=np.uint8)\n",
    "matrix_print(A)"
   ]
  },
  {
   "cell_type": "code",
   "execution_count": 122,
   "metadata": {},
   "outputs": [
    {
     "name": "stdout",
     "output_type": "stream",
     "text": [
      "2 1 3\n",
      "5 4 6\n",
      "8 7 9\n",
      "\n"
     ]
    }
   ],
   "source": [
    "#Here we are swaping the cloumns\n",
    "matrix_print(A @ P)"
   ]
  },
  {
   "cell_type": "code",
   "execution_count": 123,
   "metadata": {},
   "outputs": [
    {
     "name": "stdout",
     "output_type": "stream",
     "text": [
      "4 5 6\n",
      "1 2 3\n",
      "7 8 9\n",
      "\n"
     ]
    }
   ],
   "source": [
    "# Here we are swapping the rows \n",
    "matrix_print(P @ A)"
   ]
  },
  {
   "cell_type": "code",
   "execution_count": 124,
   "metadata": {},
   "outputs": [
    {
     "name": "stdout",
     "output_type": "stream",
     "text": [
      "0 1 0\n",
      "0 0 1\n",
      "1 0 0\n",
      "\n"
     ]
    }
   ],
   "source": [
    "#Lets use a completely new permutation and see what happens \n",
    "P = I[[1, 2, 0]]\n",
    "matrix_print(P)"
   ]
  },
  {
   "cell_type": "code",
   "execution_count": 125,
   "metadata": {},
   "outputs": [
    {
     "name": "stdout",
     "output_type": "stream",
     "text": [
      "4 5 6\n",
      "7 8 9\n",
      "1 2 3\n",
      "\n"
     ]
    }
   ],
   "source": [
    "# Using this permutation, the rows are reversed by 1 \n",
    "matrix_print(P @ A)"
   ]
  },
  {
   "cell_type": "code",
   "execution_count": 126,
   "metadata": {},
   "outputs": [
    {
     "name": "stdout",
     "output_type": "stream",
     "text": [
      "3 1 2\n",
      "6 4 5\n",
      "9 7 8\n",
      "\n"
     ]
    }
   ],
   "source": [
    "\n",
    "#However the columns are advanced by 1 \n",
    "matrix_print(A @ P)\n",
    "#The transformation pattern is different for rows and columns"
   ]
  },
  {
   "cell_type": "code",
   "execution_count": 127,
   "metadata": {},
   "outputs": [
    {
     "name": "stdout",
     "output_type": "stream",
     "text": [
      "7 8 9\n",
      "1 2 3\n",
      "4 5 6\n",
      "\n"
     ]
    }
   ],
   "source": [
    "#In order to get the rows to advance like the columns, use the tranpose of P\n",
    "matrix_print( P.T @ A)"
   ]
  },
  {
   "cell_type": "code",
   "execution_count": 128,
   "metadata": {},
   "outputs": [
    {
     "name": "stdout",
     "output_type": "stream",
     "text": [
      "1 0 0\n",
      "0 1 0\n",
      "0 0 1\n",
      "\n"
     ]
    }
   ],
   "source": [
    "\n",
    "# Number of objects to permute.\n",
    "N = 3\n",
    "# Identity matrix.\n",
    "I = np.identity(N, dtype=np.uint8)\n",
    "matrix_print(I)"
   ]
  },
  {
   "cell_type": "code",
   "execution_count": 130,
   "metadata": {},
   "outputs": [
    {
     "name": "stdout",
     "output_type": "stream",
     "text": [
      "1 0 0\n",
      "0 1 0\n",
      "0 0 1\n",
      "\n",
      "1 0 0\n",
      "0 0 1\n",
      "0 1 0\n",
      "\n",
      "0 1 0\n",
      "1 0 0\n",
      "0 0 1\n",
      "\n",
      "0 1 0\n",
      "0 0 1\n",
      "1 0 0\n",
      "\n",
      "0 0 1\n",
      "1 0 0\n",
      "0 1 0\n",
      "\n",
      "0 0 1\n",
      "0 1 0\n",
      "1 0 0\n",
      "\n"
     ]
    }
   ],
   "source": [
    "#There are 6 different permutations in a 3 dimesional matrix and 6 different to shuffle 3 things\n",
    "# Permutations of rows of I.\n",
    "perms = it.permutations(range(N))\n",
    "# Print I with rows permuted by p.\n",
    "for p in perms:\n",
    "  # Permutation matrix - using numpy indexing.\n",
    "  #Pmat contains the list of differnt permutations for a 3x3 identity matrix \n",
    "  Pmat = I[list(p)]\n",
    "  matrix_print(Pmat)\n",
    "#The 1st one is the identity matrix which leaves the matrix the same (0,1,2)\n",
    "#The 2nd one the first row stays the same and swap 3rd and 2nd rows (0,2,1)\n",
    "#The 3rd one is (1,0,2)\n",
    "#The 4th one is swapping the rows (2,0,1)\n",
    "#The 5th one is swapping the rows (1,2,0)\n",
    "#The 6th one is swapping the rows (2,1,0)"
   ]
  },
  {
   "cell_type": "code",
   "execution_count": 131,
   "metadata": {},
   "outputs": [
    {
     "name": "stdout",
     "output_type": "stream",
     "text": [
      "1 2 3\n",
      "4 5 6\n",
      "7 8 9\n",
      "\n"
     ]
    }
   ],
   "source": [
    "#Lets use different 3 x 3 matrix with the followig numbers \n",
    "# Here is a 3x3 version of A.\n",
    "A = np.array([[1, 2, 3], [4, 5, 6], [7, 8, 9]], dtype=np.uint8)\n",
    "matrix_print(A)"
   ]
  },
  {
   "cell_type": "code",
   "execution_count": 133,
   "metadata": {},
   "outputs": [
    {
     "name": "stdout",
     "output_type": "stream",
     "text": [
      "1 2 3\n",
      "4 5 6\n",
      "7 8 9\n",
      "\n",
      "1 3 2\n",
      "7 9 8\n",
      "4 6 5\n",
      "\n",
      "5 4 6\n",
      "2 1 3\n",
      "8 7 9\n",
      "\n",
      "5 6 4\n",
      "8 9 7\n",
      "2 3 1\n",
      "\n",
      "9 7 8\n",
      "3 1 2\n",
      "6 4 5\n",
      "\n",
      "9 8 7\n",
      "6 5 4\n",
      "3 2 1\n",
      "\n"
     ]
    }
   ],
   "source": [
    "#Lets list out the permuatation for the numbers 123456789\n",
    "#We do two permutations on the orginal matrix\n",
    "# Permutations of rows of I.\n",
    "perms = it.permutations(range(N))\n",
    "# Print A permuted by permutation matrices.\n",
    "for p in perms:\n",
    "  # Permutation matrix - using numpy indexing.\n",
    "  Pmat = I[list(p)]\n",
    "  # L permuted by Pmat.\n",
    "  # MAKE NOTE: The following code takes the list of perutations, multiplys it by A (the list) and then multiplies by the tranpose of permutations\n",
    "      #Pmat @ A permutes the rows \n",
    "      #@ A Pmat.T permutes the columns\n",
    "  Ap = Pmat @ A @ Pmat.T\n",
    "  # Print.\n",
    "  matrix_print(Ap)"
   ]
  },
  {
   "attachments": {},
   "cell_type": "markdown",
   "metadata": {},
   "source": [
    "### Graphs with four Vertices\n",
    "It is difficult to avoid symmetry with a graph with 4 vertices."
   ]
  },
  {
   "cell_type": "code",
   "execution_count": 138,
   "metadata": {},
   "outputs": [
    {
     "data": {
      "image/png": "[encoded data removed]",
      "text/plain": [
       "<Figure size 640x480 with 1 Axes>"
      ]
     },
     "metadata": {},
     "output_type": "display_data"
    }
   ],
   "source": [
    "# Create an empty graph.\n",
    "G = nx.Graph()\n",
    "\n",
    "# Create a set of edges.\n",
    "E = ((0, 1), (1, 2), (1, 3), (2, 3))\n",
    "\n",
    "# Incorporate the edges in G.\n",
    "G.add_edges_from(E)\n",
    "\n",
    "# Define plotting parameters.\n",
    "params = {\n",
    "    \"with_labels\": True,\n",
    "    \"font_weight\": \"bold\",\n",
    "    \"font_size\": 16,\n",
    "    \"node_color\": \"white\",\n",
    "    \"edgecolors\": \"black\",\n",
    "}\n",
    "\n",
    "# Create a figure and a set of subplots.\n",
    "fig, ax = plt.subplots()\n",
    "\n",
    "# Draw the graph.\n",
    "nx.draw(G, pos=nx.circular_layout(G), ax=ax, **params)\n",
    "\n",
    "# Show the plot.\n",
    "plt.show()\n",
    "\n"
   ]
  },
  {
   "cell_type": "code",
   "execution_count": 139,
   "metadata": {},
   "outputs": [
    {
     "name": "stdout",
     "output_type": "stream",
     "text": [
      "0 1 0 0\n",
      "1 0 1 1\n",
      "0 1 0 1\n",
      "0 1 1 0\n",
      "\n"
     ]
    }
   ],
   "source": [
    "# Adjacency matrix.\n",
    "A = nx.to_numpy_array(G).astype(np.uint8)\n",
    "matrix_print(A)"
   ]
  },
  {
   "cell_type": "code",
   "execution_count": 140,
   "metadata": {},
   "outputs": [
    {
     "name": "stdout",
     "output_type": "stream",
     "text": [
      "1 0 0 0\n",
      "0 0 0 1\n",
      "0 0 1 0\n",
      "0 1 0 0\n",
      "\n"
     ]
    }
   ],
   "source": [
    "# Permutation: 0->0, 1->3, 2->2, 3->1.\n",
    "p = [0, 3, 2, 1]\n",
    "# Identity matrix.\n",
    "I = np.identity(4, np.uint8)\n",
    "# Permutation matrix.\n",
    "P = I[p]\n",
    "# Print.\n",
    "matrix_print(P)"
   ]
  },
  {
   "cell_type": "code",
   "execution_count": 141,
   "metadata": {},
   "outputs": [
    {
     "name": "stdout",
     "output_type": "stream",
     "text": [
      "0 0 0 1\n",
      "0 0 1 1\n",
      "0 1 0 1\n",
      "1 1 1 0\n",
      "\n"
     ]
    }
   ],
   "source": [
    "# Permute A.\n",
    "A_P = P @ A @ P.T\n",
    "matrix_print(A_P)"
   ]
  },
  {
   "cell_type": "code",
   "execution_count": 147,
   "metadata": {},
   "outputs": [
    {
     "data": {
      "image/png": "[encoded data removed]",
      "text/plain": [
       "<Figure size 640x480 with 1 Axes>"
      ]
     },
     "metadata": {},
     "output_type": "display_data"
    }
   ],
   "source": [
    "# Create new graph from new adjacency matrix.\n",
    "G_P = nx.from_numpy_matrix(A_P)\n",
    "# Create new figure.\n",
    "fig, ax = plt.subplots()\n",
    "# Draw circular layout of the graph.\n",
    "nx.draw_circular(G_P, ax=ax, **params)\n",
    "# Show the plot.\n",
    "plt.show()\n"
   ]
  },
  {
   "attachments": {},
   "cell_type": "markdown",
   "metadata": {},
   "source": [
    "### Complexity Theory\n",
    "***\n",
    "The complexity theory problem of P vs NP is directly relevant to the Graph Isomorphism Problem, as the problem is known to be in the complexity class NP.\n",
    "\n",
    "If P = NP, then it would be possible to solve the Graph Isomorphism Problem (as well as all other problems in NP) in polynomial time, using a deterministic algorithm. However, if P != NP, then there is no known deterministic algorithm that can solve the problem in polynomial time.\n",
    "\n",
    "The Graph Isomorphism Problem is also closely related to other problems in complexity theory, such as the problem of computing the automorphism group of a graph, which is known to be in the complexity class GI-complete (Graph Isomorphism-complete). A problem is said to be GI-complete if it is at least as hard as the Graph Isomorphism Problem in terms of worst-case time complexity.\n",
    "\n",
    "The best known algorithms for graph isomorphism have worst-case time complexity that ranges from polynomial to exponential, but none of them have been shown to be polynomial-time algorithms. It is an open question whether the Graph Isomorphism Problem is solvable in polynomial time or not, and the resolution of this question would have significant implications for complexity theory and theoretical computer science.\n",
    "\n",
    "In summary, the Graph Isomorphism Problem is an important problem in complexity theory, as it is known to be in the complexity class NP and its worst-case time complexity is not fully understood. The resolution of the P vs NP problem would have direct implications for the complexity of the Graph Isomorphism Problem, as well as many other important computational problems."
   ]
  },
  {
   "attachments": {},
   "cell_type": "markdown",
   "metadata": {},
   "source": [
    "### Applications\n",
    "***\n",
    "Although the Graph Isomorphism Problem is a theoretical problem, it has practical applications in a variety of fields. Here are some examples:\n",
    "\n",
    "- Chemistry: The problem of graph isomorphism arises in the study of molecular structure in chemistry. Chemical molecules can be represented as graphs, where the atoms are the vertices and the chemical bonds are the edges. Graph isomorphism algorithms can be used to identify similar molecules, which can aid in drug discovery, materials science, and chemical engineering.\n",
    "\n",
    "- Computer Science: Graph isomorphism has applications in computer science, particularly in the field of network analysis. Graph isomorphism algorithms can be used to detect patterns in large networks, such as social networks, computer networks, and biological networks. This information can be used to optimize network performance, detect fraud, and analyze biological pathways.\n",
    "\n",
    "- Cryptography: The security of certain encryption schemes is based on the assumption that the Graph Isomorphism Problem is hard to solve. For example, the McEliece cryptosystem is based on the hardness of the Graph Isomorphism Problem and is used in secure communications and military applications.\n",
    "\n",
    "- Mathematics: Graph isomorphism has applications in the field of mathematics, particularly in the study of algebraic and combinatorial structures. Graph isomorphism algorithms can be used to classify graphs into different families, identify symmetries, and study the properties of graphs.\n",
    "\n",
    "- Image Processing: Graph isomorphism algorithms can be used in image processing, particularly in the analysis of biological images. For example, in the study of connectomics, the problem of graph isomorphism arises in the identification of similar neural networks across different brain regions or across different species.\n",
    "\n",
    "The Graph Isomorphism Problem has practical applications in a variety of fields, including chemistry, computer science, cryptography, mathematics, and image processing. The problem arises in the analysis of graphs and can be used to identify similar structures, detect patterns, and classify objects."
   ]
  },
  {
   "attachments": {},
   "cell_type": "markdown",
   "metadata": {},
   "source": [
    "### Recent Developments\n",
    "***\n",
    "In recent years, there have been several significant developments in the field of graph isomorphism, which have the potential to impact a wide range of applications. Here are some examples:\n",
    "\n",
    "- Babai's breakthrough: In 2015, László Babai announced a quasi-polynomial time algorithm for graph isomorphism, which was a major breakthrough in the field. The algorithm runs in time O(nlog^c n), where c is a small constant, and is a significant improvement over the previous best-known algorithm, which had exponential worst-case running time. The algorithm is still too slow to be practical for large graphs, but it represents a major theoretical advance in the field.\n",
    "\n",
    "- Quantum algorithms: There has been recent interest in developing quantum algorithms for graph isomorphism, which could potentially solve the problem in polynomial time. Although no quantum algorithm for graph isomorphism has been discovered yet, progress has been made in developing quantum algorithms for related problems, such as the hidden subgroup problem, which is closely related to graph isomorphism.\n",
    "\n",
    "- Group-theoretic methods: There has been recent progress in using group-theoretic methods to solve graph isomorphism, particularly the use of automorphism groups of graphs. These methods have been shown to be effective for some families of graphs, but their applicability to more general graphs is still an open question.\n",
    "\n",
    "- Machine learning approaches: There has been recent interest in using machine learning approaches to solve graph isomorphism, particularly the use of deep learning methods. These methods have shown promising results for some families of graphs, but their applicability to more general graphs is still an open question.\n",
    "\n",
    "- These recent developments are significant for the field of graph isomorphism, as they represent significant progress towards solving the problem efficiently. Although the problem is still open, these developments provide new avenues for exploration and suggest that progress is still possible. In addition, the techniques developed for graph isomorphism may have broader implications for other problems in theoretical computer science and related fields."
   ]
  },
  {
   "attachments": {},
   "cell_type": "markdown",
   "metadata": {},
   "source": [
    "### Refrences\n",
    "\n",
    "***\n",
    "\n",
    "https://en.wikipedia.org/wiki/Graph_isomorphism_problem?msclkid=3e05146dcee211ecae91016930c8da3a\n",
    "\n",
    "https://plus.maths.org/content/maths-minute-graph-isomorphism-problem?msclkid=3e078bc8cee211ecaa01490ff9fc5a60\n",
    "\n",
    "https://math.libretexts.org/Bookshelves/Combinatorics_and_Discrete_Mathematics/Combinatorics_(Morris)/03%3A_Graph_Theory/11%3A_Basics_of_Graph_Theory/11.04%3A_Graph_Isomorphisms#:~:text=Two%20graphs%20G1%20%3D%20%28V1%2C%20E1%29%20and%20G2,%CF%86%20an%20isomorphism%20from%20G1%20to%20G2.%20Notation\n",
    "\n",
    "https://calcworkshop.com/trees-graphs/isomorphic-graph/\n",
    "\n",
    "https://www.tutorialspoint.com/graph_theory/graph_theory_isomorphism.htm?msclkid=4170ef84cee311ec8df1e290cb5a7df4\n",
    "\n",
    "https://en.wikipedia.org/wiki/Graph_isomorphism_problem#:~:text=The%20graph%20isomorphism%20problem%20is,computational%20complexity%20class%20NP%2Dintermediate.\n",
    "\n",
    "http://networksciencebook.com/chapter/2\n",
    "\n",
    "https://www.geeksforgeeks.org/understanding-time-complexity-simple-examples/\n",
    "\n",
    "https://www.nature.com/articles/nature.2015.18801\n",
    "\n",
    "https://cacm.acm.org/magazines/2020/11/248220-the-graph-isomorphism-problem/abstract\n",
    "\n",
    "https://arxiv.org/abs/1512.03547\n",
    "\n",
    "https://www.gatevidyalay.com/graph-isomorphism\n",
    "\n",
    "https://github.com/ianmcloughlin/graphs-groups-and-isomorphisms/raw/main/graphs-groups-and-isomorphisms.pdf\n",
    "\n",
    "https://tonicanada.medium.com/brute-force-code-for-isomorphisms-1241ef180570"
   ]
  },
  {
   "cell_type": "code",
   "execution_count": null,
   "metadata": {},
   "outputs": [],
   "source": []
  },
  {
   "cell_type": "markdown",
   "metadata": {},
   "source": []
  }
 ],
 "metadata": {
  "kernelspec": {
   "display_name": "Python 3",
   "language": "python",
   "name": "python3"
  },
  "language_info": {
   "codemirror_mode": {
    "name": "ipython",
    "version": 3
   },
   "file_extension": ".py",
   "mimetype": "text/x-python",
   "name": "python",
   "nbconvert_exporter": "python",
   "pygments_lexer": "ipython3",
   "version": "3.10.9"
  },
  "orig_nbformat": 4,
  "vscode": {
   "interpreter": {
    "hash": "14ae21c7a4af0dce8ab17fc4c83e28594419423149b1b2991bdb1e84b4a11271"
   }
  }
 },
 "nbformat": 4,
 "nbformat_minor": 2
}
